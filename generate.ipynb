{
 "cells": [
  {
   "cell_type": "code",
   "execution_count": null,
   "id": "28af9c13",
   "metadata": {},
   "outputs": [
    {
     "ename": "",
     "evalue": "",
     "output_type": "error",
     "traceback": [
      "\u001b[1;31mRunning cells with 'Python 3.8.10 64-bit' requires ipykernel package.\n",
      "Run the following command to install 'ipykernel' into the Python environment. \n",
      "Command: '/bin/python3 -m pip install ipykernel -U --user --force-reinstall'"
     ]
    }
   ],
   "source": [
    "import torch\n",
    "import numpy as np\n",
    "from PIL import Image\n",
    "import os\n",
    "import copy\n",
    "import matplotlib.pyplot as plt"
   ]
  },
  {
   "cell_type": "code",
   "execution_count": 6,
   "id": "5a04117c",
   "metadata": {},
   "outputs": [],
   "source": [
    "labelpath = \"/media/jianyu/dataset/messy-table-dataset/real_data_v9/\"\n",
    "imagepath = \"/media/jianyu/dataset/messy-table-dataset/real_data_v9/\"\n",
    "trasparent_id = [3,7,9,13,14,16]"
   ]
  },
  {
   "cell_type": "code",
   "execution_count": 7,
   "id": "8f1cec31",
   "metadata": {},
   "outputs": [
    {
     "data": {
      "text/plain": [
       "['0-300002-0',\n",
       " '0-300002-1',\n",
       " '0-300002-10',\n",
       " '0-300002-11',\n",
       " '0-300002-12',\n",
       " '0-300002-13',\n",
       " '0-300002-14',\n",
       " '0-300002-15',\n",
       " '0-300002-16',\n",
       " '0-300002-17',\n",
       " '0-300002-18',\n",
       " '0-300002-19',\n",
       " '0-300002-2',\n",
       " '0-300002-20',\n",
       " '0-300002-3',\n",
       " '0-300002-4',\n",
       " '0-300002-5',\n",
       " '0-300002-6',\n",
       " '0-300002-7',\n",
       " '0-300002-8',\n",
       " '0-300002-9',\n",
       " '0-300100-0',\n",
       " '0-300100-1',\n",
       " '0-300100-10',\n",
       " '0-300100-11',\n",
       " '0-300100-12',\n",
       " '0-300100-13',\n",
       " '0-300100-14',\n",
       " '0-300100-15',\n",
       " '0-300155-0',\n",
       " '0-300155-1',\n",
       " '0-300155-10',\n",
       " '0-300155-11',\n",
       " '0-300155-12',\n",
       " '0-300155-13',\n",
       " '0-300155-14',\n",
       " '0-300155-15',\n",
       " '0-300155-16',\n",
       " '0-300155-17',\n",
       " '0-300155-18',\n",
       " '0-300155-19',\n",
       " '0-300155-2',\n",
       " '0-300155-20',\n",
       " '0-300155-3',\n",
       " '0-300155-4',\n",
       " '0-300155-5',\n",
       " '0-300155-6',\n",
       " '0-300155-7',\n",
       " '0-300155-8',\n",
       " '0-300155-9',\n",
       " '0-300158-0',\n",
       " '0-300158-1',\n",
       " '0-300158-10',\n",
       " '0-300158-11',\n",
       " '0-300158-12',\n",
       " '0-300158-13',\n",
       " '0-300158-14',\n",
       " '0-300158-15',\n",
       " '0-300158-16',\n",
       " '0-300122-10',\n",
       " '0-300122-11',\n",
       " '0-300122-12',\n",
       " '0-300122-13',\n",
       " '0-300122-14',\n",
       " '0-300122-15',\n",
       " '0-300122-16',\n",
       " '0-300122-17',\n",
       " '0-300122-18',\n",
       " '0-300122-19',\n",
       " '0-300122-2',\n",
       " '0-300122-20',\n",
       " '0-300122-3',\n",
       " '0-300122-4',\n",
       " '0-300122-5',\n",
       " '0-300122-6',\n",
       " '0-300122-7',\n",
       " '0-300122-8',\n",
       " '0-300122-9',\n",
       " '0-300124-0',\n",
       " '0-300124-1',\n",
       " '0-300124-10',\n",
       " '0-300124-11',\n",
       " '0-300124-12',\n",
       " '0-300124-13',\n",
       " '0-300124-14',\n",
       " '0-300124-15',\n",
       " '0-300124-16',\n",
       " '0-300124-17',\n",
       " '0-300124-18',\n",
       " '0-300124-19',\n",
       " '0-300124-2',\n",
       " '0-300124-20',\n",
       " '0-300124-3',\n",
       " '0-300124-4',\n",
       " '0-300124-5',\n",
       " '0-300124-6',\n",
       " '0-300183-7',\n",
       " '0-300183-8',\n",
       " '0-300183-9',\n",
       " '0-300197-0',\n",
       " '0-300197-1',\n",
       " '0-300197-10',\n",
       " '0-300197-11',\n",
       " '0-300197-12',\n",
       " '0-300197-13',\n",
       " '0-300197-14',\n",
       " '0-300197-15',\n",
       " '0-300197-16',\n",
       " '0-300197-17',\n",
       " '0-300197-18',\n",
       " '0-300197-19',\n",
       " '0-300197-2',\n",
       " '0-300197-20',\n",
       " '0-300197-3',\n",
       " '0-300197-4',\n",
       " '0-300197-5',\n",
       " '0-300197-6',\n",
       " '0-300197-7',\n",
       " '0-300197-8',\n",
       " '0-300128-16',\n",
       " '0-300128-17',\n",
       " '0-300128-18',\n",
       " '0-300128-19',\n",
       " '0-300128-2',\n",
       " '0-300128-20',\n",
       " '0-300128-3',\n",
       " '0-300128-4',\n",
       " '0-300128-5',\n",
       " '0-300128-6',\n",
       " '0-300128-7',\n",
       " '0-300128-8',\n",
       " '0-300128-9',\n",
       " '0-300135-0',\n",
       " '0-300135-1',\n",
       " '0-300135-10',\n",
       " '0-300135-11',\n",
       " '0-300135-12',\n",
       " '0-300135-13',\n",
       " '0-300135-14',\n",
       " '0-300135-15',\n",
       " '0-300135-16',\n",
       " '0-300135-17',\n",
       " '0-300135-18',\n",
       " '0-300135-19',\n",
       " '0-300135-2',\n",
       " '0-300100-16',\n",
       " '0-300103-6',\n",
       " '0-300104-9',\n",
       " '0-300110-1',\n",
       " '0-300113-3',\n",
       " '0-300122-1',\n",
       " '0-300124-7',\n",
       " '0-300128-15',\n",
       " '0-300135-20',\n",
       " '0-300138-9',\n",
       " '0-300158-17',\n",
       " '0-300169-1',\n",
       " '0-300172-20',\n",
       " '0-300183-6',\n",
       " '0-300197-9',\n",
       " '1-300117-1',\n",
       " '1-300135-13',\n",
       " '0-300110-10',\n",
       " '0-300110-11',\n",
       " '0-300110-12',\n",
       " '0-300110-13',\n",
       " '0-300110-14',\n",
       " '0-300110-15',\n",
       " '0-300110-16',\n",
       " '0-300110-17',\n",
       " '0-300110-18',\n",
       " '0-300110-19',\n",
       " '0-300110-2',\n",
       " '0-300110-20',\n",
       " '0-300110-3',\n",
       " '0-300110-4',\n",
       " '0-300110-5',\n",
       " '0-300110-6',\n",
       " '0-300110-7',\n",
       " '0-300110-8',\n",
       " '0-300110-9',\n",
       " '0-300113-0',\n",
       " '0-300113-1',\n",
       " '0-300113-10',\n",
       " '0-300113-11',\n",
       " '0-300113-12',\n",
       " '0-300113-13',\n",
       " '0-300113-14',\n",
       " '0-300113-15',\n",
       " '0-300113-16',\n",
       " '0-300113-17',\n",
       " '0-300113-18',\n",
       " '0-300113-19',\n",
       " '0-300113-2',\n",
       " '0-300113-20',\n",
       " '0-300169-10',\n",
       " '0-300169-11',\n",
       " '0-300169-12',\n",
       " '0-300169-13',\n",
       " '0-300169-14',\n",
       " '0-300169-15',\n",
       " '0-300169-16',\n",
       " '0-300169-17',\n",
       " '0-300169-18',\n",
       " '0-300169-19',\n",
       " '0-300169-2',\n",
       " '0-300169-20',\n",
       " '0-300169-3',\n",
       " '0-300169-4',\n",
       " '0-300169-5',\n",
       " '0-300169-6',\n",
       " '0-300169-7',\n",
       " '0-300169-8',\n",
       " '0-300169-9',\n",
       " '0-300172-0',\n",
       " '0-300172-1',\n",
       " '0-300172-10',\n",
       " '0-300172-11',\n",
       " '0-300172-12',\n",
       " '0-300172-13',\n",
       " '0-300172-14',\n",
       " '0-300172-15',\n",
       " '0-300172-16',\n",
       " '0-300172-17',\n",
       " '0-300172-18',\n",
       " '0-300172-19',\n",
       " '0-300172-2',\n",
       " '1-300117-10',\n",
       " '1-300117-11',\n",
       " '1-300117-12',\n",
       " '1-300117-13',\n",
       " '1-300117-14',\n",
       " '1-300117-15',\n",
       " '1-300117-16',\n",
       " '1-300117-17',\n",
       " '1-300117-18',\n",
       " '1-300117-19',\n",
       " '1-300117-2',\n",
       " '1-300117-20',\n",
       " '1-300117-3',\n",
       " '1-300117-4',\n",
       " '1-300117-5',\n",
       " '1-300117-6',\n",
       " '1-300117-7',\n",
       " '1-300117-8',\n",
       " '1-300117-9',\n",
       " '1-300135-0',\n",
       " '1-300135-1',\n",
       " '1-300135-10',\n",
       " '1-300135-11',\n",
       " '1-300135-12',\n",
       " '0-300103-7',\n",
       " '0-300103-8',\n",
       " '0-300103-9',\n",
       " '0-300104-0',\n",
       " '0-300104-1',\n",
       " '0-300104-10',\n",
       " '0-300104-11',\n",
       " '0-300104-12',\n",
       " '0-300104-13',\n",
       " '0-300104-14',\n",
       " '0-300104-15',\n",
       " '0-300104-16',\n",
       " '0-300104-17',\n",
       " '0-300104-18',\n",
       " '0-300104-19',\n",
       " '0-300104-2',\n",
       " '0-300104-20',\n",
       " '0-300104-3',\n",
       " '0-300104-4',\n",
       " '0-300104-5',\n",
       " '0-300104-6',\n",
       " '0-300104-7',\n",
       " '0-300104-8',\n",
       " '0-300124-8',\n",
       " '0-300124-9',\n",
       " '0-300126-0',\n",
       " '0-300126-1',\n",
       " '0-300126-10',\n",
       " '0-300126-11',\n",
       " '0-300126-12',\n",
       " '0-300126-13',\n",
       " '0-300126-14',\n",
       " '0-300126-15',\n",
       " '0-300126-16',\n",
       " '0-300126-17',\n",
       " '0-300126-18',\n",
       " '0-300126-19',\n",
       " '0-300126-2',\n",
       " '0-300126-20',\n",
       " '0-300126-3',\n",
       " '0-300126-4',\n",
       " '0-300126-5',\n",
       " '0-300126-6',\n",
       " '0-300126-7',\n",
       " '0-300126-8',\n",
       " '0-300126-9',\n",
       " '0-300128-0',\n",
       " '0-300128-1',\n",
       " '0-300128-10',\n",
       " '0-300128-11',\n",
       " '0-300128-12',\n",
       " '0-300128-13',\n",
       " '0-300128-14',\n",
       " '0-300113-4',\n",
       " '0-300113-5',\n",
       " '0-300113-6',\n",
       " '0-300113-7',\n",
       " '0-300113-8',\n",
       " '0-300113-9',\n",
       " '0-300116-0',\n",
       " '0-300116-1',\n",
       " '0-300116-10',\n",
       " '0-300116-11',\n",
       " '0-300116-12',\n",
       " '0-300116-13',\n",
       " '0-300116-14',\n",
       " '0-300116-15',\n",
       " '0-300116-16',\n",
       " '0-300116-17',\n",
       " '0-300116-18',\n",
       " '0-300116-19',\n",
       " '0-300116-2',\n",
       " '0-300116-20',\n",
       " '0-300116-3',\n",
       " '0-300116-4',\n",
       " '0-300116-5',\n",
       " '0-300116-6',\n",
       " '0-300116-7',\n",
       " '0-300116-8',\n",
       " '0-300116-9',\n",
       " '0-300122-0',\n",
       " '0-300158-18',\n",
       " '0-300158-19',\n",
       " '0-300158-2',\n",
       " '0-300158-20',\n",
       " '0-300158-3',\n",
       " '0-300158-4',\n",
       " '0-300158-5',\n",
       " '0-300158-6',\n",
       " '0-300158-7',\n",
       " '0-300158-8',\n",
       " '0-300158-9',\n",
       " '0-300163-0',\n",
       " '0-300163-1',\n",
       " '0-300163-10',\n",
       " '0-300163-11',\n",
       " '0-300163-12',\n",
       " '0-300163-13',\n",
       " '0-300163-14',\n",
       " '0-300163-15',\n",
       " '0-300163-16',\n",
       " '0-300163-17',\n",
       " '0-300163-18',\n",
       " '0-300163-19',\n",
       " '0-300163-2',\n",
       " '0-300163-20',\n",
       " '0-300163-3',\n",
       " '0-300163-4',\n",
       " '0-300163-5',\n",
       " '0-300163-6',\n",
       " '0-300163-7',\n",
       " '0-300163-8',\n",
       " '0-300163-9',\n",
       " '0-300169-0',\n",
       " '0-300172-3',\n",
       " '0-300172-4',\n",
       " '0-300172-5',\n",
       " '0-300172-6',\n",
       " '0-300172-7',\n",
       " '0-300172-8',\n",
       " '0-300172-9',\n",
       " '0-300183-0',\n",
       " '0-300183-1',\n",
       " '0-300183-10',\n",
       " '0-300183-11',\n",
       " '0-300183-12',\n",
       " '0-300183-13',\n",
       " '0-300183-14',\n",
       " '0-300183-15',\n",
       " '0-300183-16',\n",
       " '0-300183-17',\n",
       " '0-300183-18',\n",
       " '0-300183-19',\n",
       " '0-300183-2',\n",
       " '0-300183-20',\n",
       " '0-300183-3',\n",
       " '0-300183-4',\n",
       " '0-300183-5',\n",
       " '0-300100-17',\n",
       " '0-300100-18',\n",
       " '0-300100-19',\n",
       " '0-300100-2',\n",
       " '0-300100-20',\n",
       " '0-300100-3',\n",
       " '0-300100-4',\n",
       " '0-300100-5',\n",
       " '0-300100-6',\n",
       " '0-300100-7',\n",
       " '0-300100-8',\n",
       " '0-300100-9',\n",
       " '0-300103-0',\n",
       " '0-300103-1',\n",
       " '0-300103-10',\n",
       " '0-300103-11',\n",
       " '0-300103-12',\n",
       " '0-300103-13',\n",
       " '0-300103-14',\n",
       " '0-300103-15',\n",
       " '0-300103-16',\n",
       " '0-300103-17',\n",
       " '0-300103-18',\n",
       " '0-300103-19',\n",
       " '0-300103-2',\n",
       " '0-300103-20',\n",
       " '0-300103-3',\n",
       " '0-300103-4',\n",
       " '0-300103-5',\n",
       " '0-300135-3',\n",
       " '0-300135-4',\n",
       " '0-300135-5',\n",
       " '0-300135-6',\n",
       " '0-300135-7',\n",
       " '0-300135-8',\n",
       " '0-300135-9',\n",
       " '0-300138-0',\n",
       " '0-300138-1',\n",
       " '0-300138-10',\n",
       " '0-300138-11',\n",
       " '0-300138-12',\n",
       " '0-300138-13',\n",
       " '0-300138-14',\n",
       " '0-300138-15',\n",
       " '0-300138-16',\n",
       " '0-300138-17',\n",
       " '0-300138-18',\n",
       " '0-300138-19',\n",
       " '0-300138-2',\n",
       " '0-300138-20',\n",
       " '0-300138-3',\n",
       " '0-300138-4',\n",
       " '0-300138-5',\n",
       " '0-300138-6',\n",
       " '0-300138-7',\n",
       " '0-300138-8',\n",
       " '0-300106-0',\n",
       " '0-300106-1',\n",
       " '0-300106-10',\n",
       " '0-300106-11',\n",
       " '0-300106-12',\n",
       " '0-300106-13',\n",
       " '0-300106-14',\n",
       " '0-300106-15',\n",
       " '0-300106-16',\n",
       " '0-300106-17',\n",
       " '0-300106-18',\n",
       " '0-300106-19',\n",
       " '0-300106-2',\n",
       " '0-300106-20',\n",
       " '0-300106-3',\n",
       " '0-300106-4',\n",
       " '0-300106-5',\n",
       " '0-300106-6',\n",
       " '0-300106-7',\n",
       " '0-300106-8',\n",
       " '0-300106-9',\n",
       " '0-300110-0',\n",
       " '1-300101-0',\n",
       " '1-300101-1',\n",
       " '1-300101-10',\n",
       " '1-300101-11',\n",
       " '1-300101-12',\n",
       " '1-300101-13',\n",
       " '1-300101-14',\n",
       " '1-300101-15',\n",
       " '1-300101-16',\n",
       " '1-300101-17',\n",
       " '1-300101-18',\n",
       " '1-300101-19',\n",
       " '1-300101-2',\n",
       " '1-300101-20',\n",
       " '1-300101-3',\n",
       " '1-300101-4',\n",
       " '1-300101-5',\n",
       " '1-300101-6',\n",
       " '1-300101-7',\n",
       " '1-300101-8',\n",
       " '1-300101-9',\n",
       " '1-300117-0',\n",
       " '1-300135-14',\n",
       " '1-300135-15',\n",
       " '1-300135-16',\n",
       " '1-300135-17',\n",
       " '1-300135-18',\n",
       " '1-300135-19',\n",
       " '1-300135-2',\n",
       " '1-300135-20',\n",
       " '1-300135-3',\n",
       " '1-300135-4',\n",
       " '1-300135-5',\n",
       " '1-300135-6',\n",
       " '1-300135-7',\n",
       " '1-300135-8',\n",
       " '1-300135-9',\n",
       " 'gif_masks',\n",
       " 'test.txt',\n",
       " 'test_list.txt']"
      ]
     },
     "execution_count": 7,
     "metadata": {},
     "output_type": "execute_result"
    }
   ],
   "source": [
    "scene_id = os.listdir(imagepath)\n",
    "scene_id"
   ]
  },
  {
   "cell_type": "code",
   "execution_count": 8,
   "id": "9e368213",
   "metadata": {},
   "outputs": [
    {
     "ename": "KeyboardInterrupt",
     "evalue": "",
     "output_type": "error",
     "traceback": [
      "\u001b[0;31m---------------------------------------------------------------------------\u001b[0m",
      "\u001b[0;31mKeyboardInterrupt\u001b[0m                         Traceback (most recent call last)",
      "\u001b[0;32m<ipython-input-8-0aeecae00e7f>\u001b[0m in \u001b[0;36m<module>\u001b[0;34m\u001b[0m\n\u001b[1;32m      3\u001b[0m         \u001b[0;32mcontinue\u001b[0m\u001b[0;34m\u001b[0m\u001b[0;34m\u001b[0m\u001b[0m\n\u001b[1;32m      4\u001b[0m     \u001b[0mlabel_pwd\u001b[0m \u001b[0;34m=\u001b[0m \u001b[0mos\u001b[0m\u001b[0;34m.\u001b[0m\u001b[0mpath\u001b[0m\u001b[0;34m.\u001b[0m\u001b[0mjoin\u001b[0m\u001b[0;34m(\u001b[0m\u001b[0mlabelpath\u001b[0m\u001b[0;34m,\u001b[0m \u001b[0ms_id\u001b[0m\u001b[0;34m,\u001b[0m \u001b[0;34m\"irL_label_image.png\"\u001b[0m\u001b[0;34m)\u001b[0m\u001b[0;34m\u001b[0m\u001b[0;34m\u001b[0m\u001b[0m\n\u001b[0;32m----> 5\u001b[0;31m     \u001b[0mlabel\u001b[0m \u001b[0;34m=\u001b[0m \u001b[0mnp\u001b[0m\u001b[0;34m.\u001b[0m\u001b[0marray\u001b[0m\u001b[0;34m(\u001b[0m\u001b[0mImage\u001b[0m\u001b[0;34m.\u001b[0m\u001b[0mopen\u001b[0m\u001b[0;34m(\u001b[0m\u001b[0mlabel_pwd\u001b[0m\u001b[0;34m)\u001b[0m\u001b[0;34m)\u001b[0m\u001b[0;34m\u001b[0m\u001b[0;34m\u001b[0m\u001b[0m\n\u001b[0m\u001b[1;32m      6\u001b[0m     \u001b[0mlabel_rgb\u001b[0m \u001b[0;34m=\u001b[0m \u001b[0mcopy\u001b[0m\u001b[0;34m.\u001b[0m\u001b[0mdeepcopy\u001b[0m\u001b[0;34m(\u001b[0m\u001b[0mlabel\u001b[0m\u001b[0;34m)\u001b[0m\u001b[0;34m\u001b[0m\u001b[0;34m\u001b[0m\u001b[0m\n\u001b[1;32m      7\u001b[0m     \u001b[0mlabel\u001b[0m\u001b[0;34m[\u001b[0m\u001b[0mlabel\u001b[0m \u001b[0;34m==\u001b[0m \u001b[0;36m1\u001b[0m\u001b[0;34m]\u001b[0m \u001b[0;34m=\u001b[0m \u001b[0;36m0\u001b[0m\u001b[0;34m\u001b[0m\u001b[0;34m\u001b[0m\u001b[0m\n",
      "\u001b[0;32m~/app/anaconda3/lib/python3.8/site-packages/PIL/Image.py\u001b[0m in \u001b[0;36mopen\u001b[0;34m(fp, mode, formats)\u001b[0m\n\u001b[1;32m   2919\u001b[0m         \u001b[0mexclusive_fp\u001b[0m \u001b[0;34m=\u001b[0m \u001b[0;32mTrue\u001b[0m\u001b[0;34m\u001b[0m\u001b[0;34m\u001b[0m\u001b[0m\n\u001b[1;32m   2920\u001b[0m \u001b[0;34m\u001b[0m\u001b[0m\n\u001b[0;32m-> 2921\u001b[0;31m     \u001b[0mprefix\u001b[0m \u001b[0;34m=\u001b[0m \u001b[0mfp\u001b[0m\u001b[0;34m.\u001b[0m\u001b[0mread\u001b[0m\u001b[0;34m(\u001b[0m\u001b[0;36m16\u001b[0m\u001b[0;34m)\u001b[0m\u001b[0;34m\u001b[0m\u001b[0;34m\u001b[0m\u001b[0m\n\u001b[0m\u001b[1;32m   2922\u001b[0m \u001b[0;34m\u001b[0m\u001b[0m\n\u001b[1;32m   2923\u001b[0m     \u001b[0mpreinit\u001b[0m\u001b[0;34m(\u001b[0m\u001b[0;34m)\u001b[0m\u001b[0;34m\u001b[0m\u001b[0;34m\u001b[0m\u001b[0m\n",
      "\u001b[0;31mKeyboardInterrupt\u001b[0m: "
     ]
    }
   ],
   "source": [
    "for s_id in scene_id:\n",
    "    if len(s_id.split('-')) != 3:\n",
    "        continue\n",
    "    label_pwd = os.path.join(labelpath, s_id, \"irL_label_image.png\")\n",
    "    label = np.array(Image.open(label_pwd))\n",
    "    label_rgb = copy.deepcopy(label)\n",
    "    label[label == 1] = 0\n",
    "    label_rgb[label_rgb == 1] = 0\n",
    "    for t_label in trasparent_id:\n",
    "        label[label == t_label] = 1\n",
    "        label_rgb[label_rgb == t_label] = 255\n",
    "    label[label != 1] = 0\n",
    "    label_rgb[label_rgb != 255] = 0\n",
    "    output = Image.fromarray(label)\n",
    "    output_rgb = Image.fromarray(label_rgb)\n",
    "    savepath = os.path.join(imagepath, s_id, \"transparent_mask.png\")\n",
    "    savepath_rgb = os.path.join(imagepath, s_id, \"transparent_mask_rgb.png\")\n",
    "    output.save(savepath)\n",
    "    output_rgb.save(savepath_rgb)"
   ]
  },
  {
   "cell_type": "code",
   "execution_count": 9,
   "id": "76da290d",
   "metadata": {},
   "outputs": [],
   "source": [
    "test = Image.open(\"/media/jianyu/dataset/messy-table-dataset/real_data_v9/0-300104-0/transparent_mask.png\")"
   ]
  },
  {
   "cell_type": "code",
   "execution_count": 10,
   "id": "2eddcb7c",
   "metadata": {},
   "outputs": [
    {
     "data": {
      "text/plain": [
       "<matplotlib.image.AxesImage at 0x7f45ce6f0610>"
      ]
     },
     "execution_count": 10,
     "metadata": {},
     "output_type": "execute_result"
    },
    {
     "data": {
      "image/png": "[encoded data removed]",
      "text/plain": [
       "<Figure size 432x288 with 1 Axes>"
      ]
     },
     "metadata": {
      "needs_background": "light"
     },
     "output_type": "display_data"
    }
   ],
   "source": [
    "plt.imshow(test, cmap='gray')"
   ]
  },
  {
   "cell_type": "code",
   "execution_count": 11,
   "id": "da10f101",
   "metadata": {},
   "outputs": [],
   "source": [
    "test = np.array(test)"
   ]
  },
  {
   "cell_type": "code",
   "execution_count": 12,
   "id": "f5879467",
   "metadata": {},
   "outputs": [
    {
     "data": {
      "text/plain": [
       "49456"
      ]
     },
     "execution_count": 12,
     "metadata": {},
     "output_type": "execute_result"
    }
   ],
   "source": [
    "np.sum(test == 1)"
   ]
  },
  {
   "cell_type": "code",
   "execution_count": 13,
   "id": "33a422d5",
   "metadata": {},
   "outputs": [
    {
     "data": {
      "text/plain": [
       "2024144"
      ]
     },
     "execution_count": 13,
     "metadata": {},
     "output_type": "execute_result"
    }
   ],
   "source": [
    "np.sum(test == 0)"
   ]
  },
  {
   "cell_type": "code",
   "execution_count": 23,
   "id": "e75c345f",
   "metadata": {},
   "outputs": [
    {
     "data": {
      "text/plain": [
       "2073600"
      ]
     },
     "execution_count": 23,
     "metadata": {},
     "output_type": "execute_result"
    }
   ],
   "source": [
    "test.shape[0]*test.shape[1]"
   ]
  },
  {
   "cell_type": "code",
   "execution_count": 24,
   "id": "90fbba1c",
   "metadata": {},
   "outputs": [
    {
     "data": {
      "text/plain": [
       "2073600"
      ]
     },
     "execution_count": 24,
     "metadata": {},
     "output_type": "execute_result"
    }
   ],
   "source": [
    "np.sum(test == 1) + np.sum(test == 0)"
   ]
  },
  {
   "cell_type": "code",
   "execution_count": 25,
   "id": "4deba18d",
   "metadata": {},
   "outputs": [],
   "source": [
    "outline_path = '/media/jianyu/dataset/cleargrasp/train/cleargrasp-dataset-train/stemless-plastic-champagne-glass-train/outlines/000000000-outlineSegmentation.png'\n",
    "outline = Image.open(outline_path)"
   ]
  },
  {
   "cell_type": "code",
   "execution_count": 26,
   "id": "4326e0a6",
   "metadata": {},
   "outputs": [
    {
     "data": {
      "text/plain": [
       "dtype('uint8')"
      ]
     },
     "execution_count": 26,
     "metadata": {},
     "output_type": "execute_result"
    }
   ],
   "source": [
    "outline_np = np.array(outline)\n",
    "outline_np.dtype"
   ]
  },
  {
   "cell_type": "code",
   "execution_count": 27,
   "id": "db5e0f72",
   "metadata": {},
   "outputs": [
    {
     "data": {
      "text/plain": [
       "(2047164, 21851, 4585)"
      ]
     },
     "execution_count": 27,
     "metadata": {},
     "output_type": "execute_result"
    }
   ],
   "source": [
    "np.sum(outline_np == 0), np.sum(outline_np == 1), np.sum(outline_np == 2)"
   ]
  },
  {
   "cell_type": "code",
   "execution_count": 28,
   "id": "c85479de",
   "metadata": {},
   "outputs": [
    {
     "data": {
      "text/plain": [
       "2073600"
      ]
     },
     "execution_count": 28,
     "metadata": {},
     "output_type": "execute_result"
    }
   ],
   "source": [
    "np.sum(outline_np == 0) + np.sum(outline_np == 1) + np.sum(outline_np == 2)"
   ]
  },
  {
   "cell_type": "code",
   "execution_count": 29,
   "id": "1e5437fa",
   "metadata": {},
   "outputs": [
    {
     "data": {
      "text/plain": [
       "2073600"
      ]
     },
     "execution_count": 29,
     "metadata": {},
     "output_type": "execute_result"
    }
   ],
   "source": [
    "1920*1080"
   ]
  },
  {
   "cell_type": "code",
   "execution_count": 30,
   "id": "21c35fa1",
   "metadata": {},
   "outputs": [
    {
     "data": {
      "text/plain": [
       "<matplotlib.image.AxesImage at 0x7f5098476220>"
      ]
     },
     "execution_count": 30,
     "metadata": {},
     "output_type": "execute_result"
    },
    {
     "data": {
      "image/png": "[encoded data removed]",
      "text/plain": [
       "<Figure size 432x288 with 1 Axes>"
      ]
     },
     "metadata": {
      "needs_background": "light"
     },
     "output_type": "display_data"
    }
   ],
   "source": [
    "plt.imshow(outline)"
   ]
  },
  {
   "cell_type": "code",
   "execution_count": 31,
   "id": "22fe8bb9",
   "metadata": {},
   "outputs": [],
   "source": [
    "mask = outline_np == 1\n",
    "outline_np[mask] = 0"
   ]
  },
  {
   "cell_type": "code",
   "execution_count": 32,
   "id": "79fc758c",
   "metadata": {},
   "outputs": [
    {
     "data": {
      "text/plain": [
       "<matplotlib.image.AxesImage at 0x7f50983d3f10>"
      ]
     },
     "execution_count": 32,
     "metadata": {},
     "output_type": "execute_result"
    },
    {
     "data": {
      "image/png": "[encoded data removed]",
      "text/plain": [
       "<Figure size 432x288 with 1 Axes>"
      ]
     },
     "metadata": {
      "needs_background": "light"
     },
     "output_type": "display_data"
    }
   ],
   "source": [
    "outline = Image.fromarray(outline_np)\n",
    "plt.imshow(outline)"
   ]
  },
  {
   "cell_type": "code",
   "execution_count": 33,
   "id": "3510f7a6",
   "metadata": {},
   "outputs": [],
   "source": [
    "labelpath = \"/media/jianyu/dataset/messy-table-dataset/real_data_v9\"\n",
    "imagepath = \"/media/jianyu/dataset/messy-table-dataset/real_v9/training\"\n",
    "trasparent_id = [3,7,9,13,14,16]"
   ]
  },
  {
   "cell_type": "code",
   "execution_count": 34,
   "id": "c2a47912",
   "metadata": {},
   "outputs": [
    {
     "data": {
      "text/plain": [
       "['0-300002-0',\n",
       " '0-300002-1',\n",
       " '0-300002-10',\n",
       " '0-300002-11',\n",
       " '0-300002-12',\n",
       " '0-300002-13',\n",
       " '0-300002-14',\n",
       " '0-300002-15',\n",
       " '0-300002-16',\n",
       " '0-300002-17',\n",
       " '0-300002-18',\n",
       " '0-300002-19',\n",
       " '0-300002-2',\n",
       " '0-300002-20',\n",
       " '0-300002-3',\n",
       " '0-300002-4',\n",
       " '0-300002-5',\n",
       " '0-300002-6',\n",
       " '0-300002-7',\n",
       " '0-300002-8',\n",
       " '0-300002-9',\n",
       " '0-300100-0',\n",
       " '0-300100-1',\n",
       " '0-300100-10',\n",
       " '0-300100-11',\n",
       " '0-300100-12',\n",
       " '0-300100-13',\n",
       " '0-300100-14',\n",
       " '0-300100-15',\n",
       " '0-300155-0',\n",
       " '0-300155-1',\n",
       " '0-300155-10',\n",
       " '0-300155-11',\n",
       " '0-300155-12',\n",
       " '0-300155-13',\n",
       " '0-300155-14',\n",
       " '0-300155-15',\n",
       " '0-300155-16',\n",
       " '0-300155-17',\n",
       " '0-300155-18',\n",
       " '0-300155-19',\n",
       " '0-300155-2',\n",
       " '0-300155-20',\n",
       " '0-300155-3',\n",
       " '0-300155-4',\n",
       " '0-300155-5',\n",
       " '0-300155-6',\n",
       " '0-300155-7',\n",
       " '0-300155-8',\n",
       " '0-300155-9',\n",
       " '0-300158-0',\n",
       " '0-300158-1',\n",
       " '0-300158-10',\n",
       " '0-300158-11',\n",
       " '0-300158-12',\n",
       " '0-300122-10',\n",
       " '0-300122-11',\n",
       " '0-300122-12',\n",
       " '0-300122-13',\n",
       " '0-300122-14',\n",
       " '0-300122-15',\n",
       " '0-300122-16',\n",
       " '0-300122-17',\n",
       " '0-300122-18',\n",
       " '0-300122-19',\n",
       " '0-300122-2',\n",
       " '0-300122-20',\n",
       " '0-300122-3',\n",
       " '0-300122-4',\n",
       " '0-300122-5',\n",
       " '0-300122-6',\n",
       " '0-300122-7',\n",
       " '0-300122-8',\n",
       " '0-300122-9',\n",
       " '0-300124-0',\n",
       " '0-300124-1',\n",
       " '0-300124-10',\n",
       " '0-300124-11',\n",
       " '0-300124-12',\n",
       " '0-300124-13',\n",
       " '0-300124-14',\n",
       " '0-300124-15',\n",
       " '0-300124-16',\n",
       " '0-300124-17',\n",
       " '0-300124-18',\n",
       " '0-300124-19',\n",
       " '0-300124-2',\n",
       " '0-300124-20',\n",
       " '0-300124-3',\n",
       " '0-300124-4',\n",
       " '0-300124-5',\n",
       " '0-300124-6',\n",
       " '0-300183-12',\n",
       " '0-300183-13',\n",
       " '0-300183-14',\n",
       " '0-300183-15',\n",
       " '0-300183-16',\n",
       " '0-300183-17',\n",
       " '0-300183-18',\n",
       " '0-300183-19',\n",
       " '0-300183-2',\n",
       " '0-300183-20',\n",
       " '0-300183-3',\n",
       " '0-300183-4',\n",
       " '0-300183-5',\n",
       " '0-300183-6',\n",
       " '0-300183-7',\n",
       " '0-300183-8',\n",
       " '0-300183-9',\n",
       " '0-300197-0',\n",
       " '0-300197-1',\n",
       " '0-300197-10',\n",
       " '0-300197-11',\n",
       " '0-300197-12',\n",
       " '0-300197-13',\n",
       " '0-300197-14',\n",
       " '0-300128-16',\n",
       " '0-300128-17',\n",
       " '0-300128-18',\n",
       " '0-300128-19',\n",
       " '0-300128-2',\n",
       " '0-300128-20',\n",
       " '0-300128-3',\n",
       " '0-300128-4',\n",
       " '0-300128-5',\n",
       " '0-300128-6',\n",
       " '0-300128-7',\n",
       " '0-300128-8',\n",
       " '0-300128-9',\n",
       " '0-300135-0',\n",
       " '0-300135-1',\n",
       " '0-300135-10',\n",
       " '0-300135-11',\n",
       " '0-300135-12',\n",
       " '0-300135-13',\n",
       " '0-300135-14',\n",
       " '0-300135-15',\n",
       " '0-300135-16',\n",
       " '0-300135-17',\n",
       " '0-300135-18',\n",
       " '0-300135-19',\n",
       " '0-300135-2',\n",
       " '0-300100-16',\n",
       " '0-300103-6',\n",
       " '0-300104-9',\n",
       " '0-300110-1',\n",
       " '0-300113-3',\n",
       " '0-300122-1',\n",
       " '0-300124-7',\n",
       " '0-300128-15',\n",
       " '0-300135-20',\n",
       " '0-300138-9',\n",
       " '0-300158-13',\n",
       " '0-300163-19',\n",
       " '0-300169-5',\n",
       " '0-300183-11',\n",
       " '0-300197-15',\n",
       " '1-300101-17',\n",
       " '1-300117-7',\n",
       " '0-300110-10',\n",
       " '0-300110-11',\n",
       " '0-300110-12',\n",
       " '0-300110-13',\n",
       " '0-300110-14',\n",
       " '0-300110-15',\n",
       " '0-300110-16',\n",
       " '0-300110-17',\n",
       " '0-300110-18',\n",
       " '0-300110-19',\n",
       " '0-300110-2',\n",
       " '0-300110-20',\n",
       " '0-300110-3',\n",
       " '0-300110-4',\n",
       " '0-300110-5',\n",
       " '0-300110-6',\n",
       " '0-300110-7',\n",
       " '0-300110-8',\n",
       " '0-300110-9',\n",
       " '0-300113-0',\n",
       " '0-300113-1',\n",
       " '0-300113-10',\n",
       " '0-300113-11',\n",
       " '0-300113-12',\n",
       " '0-300113-13',\n",
       " '0-300113-14',\n",
       " '0-300113-15',\n",
       " '0-300113-16',\n",
       " '0-300113-17',\n",
       " '0-300113-18',\n",
       " '0-300113-19',\n",
       " '0-300113-2',\n",
       " '0-300113-20',\n",
       " '0-300163-2',\n",
       " '0-300163-20',\n",
       " '0-300163-3',\n",
       " '0-300163-4',\n",
       " '0-300163-5',\n",
       " '0-300163-6',\n",
       " '0-300163-7',\n",
       " '0-300163-8',\n",
       " '0-300163-9',\n",
       " '0-300169-0',\n",
       " '0-300169-1',\n",
       " '0-300169-10',\n",
       " '0-300169-11',\n",
       " '0-300169-12',\n",
       " '0-300169-13',\n",
       " '0-300169-14',\n",
       " '0-300169-15',\n",
       " '0-300169-16',\n",
       " '0-300169-17',\n",
       " '0-300169-18',\n",
       " '0-300169-19',\n",
       " '0-300169-2',\n",
       " '0-300169-20',\n",
       " '0-300169-3',\n",
       " '0-300169-4',\n",
       " '1-300101-18',\n",
       " '1-300101-19',\n",
       " '1-300101-2',\n",
       " '1-300101-20',\n",
       " '1-300101-3',\n",
       " '1-300101-4',\n",
       " '1-300101-5',\n",
       " '1-300101-6',\n",
       " '1-300101-7',\n",
       " '1-300101-8',\n",
       " '1-300101-9',\n",
       " '1-300117-0',\n",
       " '1-300117-1',\n",
       " '1-300117-10',\n",
       " '1-300117-11',\n",
       " '1-300117-12',\n",
       " '1-300117-13',\n",
       " '1-300117-14',\n",
       " '1-300117-15',\n",
       " '1-300117-16',\n",
       " '1-300117-17',\n",
       " '1-300117-18',\n",
       " '1-300117-19',\n",
       " '1-300117-2',\n",
       " '1-300117-20',\n",
       " '1-300117-3',\n",
       " '1-300117-4',\n",
       " '1-300117-5',\n",
       " '1-300117-6',\n",
       " '0-300103-7',\n",
       " '0-300103-8',\n",
       " '0-300103-9',\n",
       " '0-300104-0',\n",
       " '0-300104-1',\n",
       " '0-300104-10',\n",
       " '0-300104-11',\n",
       " '0-300104-12',\n",
       " '0-300104-13',\n",
       " '0-300104-14',\n",
       " '0-300104-15',\n",
       " '0-300104-16',\n",
       " '0-300104-17',\n",
       " '0-300104-18',\n",
       " '0-300104-19',\n",
       " '0-300104-2',\n",
       " '0-300104-20',\n",
       " '0-300104-3',\n",
       " '0-300104-4',\n",
       " '0-300104-5',\n",
       " '0-300104-6',\n",
       " '0-300104-7',\n",
       " '0-300104-8',\n",
       " '0-300124-8',\n",
       " '0-300124-9',\n",
       " '0-300126-0',\n",
       " '0-300126-1',\n",
       " '0-300126-10',\n",
       " '0-300126-11',\n",
       " '0-300126-12',\n",
       " '0-300126-13',\n",
       " '0-300126-14',\n",
       " '0-300126-15',\n",
       " '0-300126-16',\n",
       " '0-300126-17',\n",
       " '0-300126-18',\n",
       " '0-300126-19',\n",
       " '0-300126-2',\n",
       " '0-300126-20',\n",
       " '0-300126-3',\n",
       " '0-300126-4',\n",
       " '0-300126-5',\n",
       " '0-300126-6',\n",
       " '0-300126-7',\n",
       " '0-300126-8',\n",
       " '0-300126-9',\n",
       " '0-300128-0',\n",
       " '0-300128-1',\n",
       " '0-300128-10',\n",
       " '0-300128-11',\n",
       " '0-300128-12',\n",
       " '0-300128-13',\n",
       " '0-300128-14',\n",
       " '0-300113-4',\n",
       " '0-300113-5',\n",
       " '0-300113-6',\n",
       " '0-300113-7',\n",
       " '0-300113-8',\n",
       " '0-300113-9',\n",
       " '0-300116-0',\n",
       " '0-300116-1',\n",
       " '0-300116-10',\n",
       " '0-300116-11',\n",
       " '0-300116-12',\n",
       " '0-300116-13',\n",
       " '0-300116-14',\n",
       " '0-300116-15',\n",
       " '0-300116-16',\n",
       " '0-300116-17',\n",
       " '0-300116-18',\n",
       " '0-300116-19',\n",
       " '0-300116-2',\n",
       " '0-300116-20',\n",
       " '0-300116-3',\n",
       " '0-300116-4',\n",
       " '0-300116-5',\n",
       " '0-300116-6',\n",
       " '0-300116-7',\n",
       " '0-300116-8',\n",
       " '0-300116-9',\n",
       " '0-300122-0',\n",
       " '1-300117-8',\n",
       " '1-300117-9',\n",
       " '1-300135-0',\n",
       " '1-300135-1',\n",
       " '1-300135-10',\n",
       " '1-300135-11',\n",
       " '1-300135-12',\n",
       " '1-300135-13',\n",
       " '1-300135-14',\n",
       " '1-300135-15',\n",
       " '1-300135-16',\n",
       " '1-300135-17',\n",
       " '1-300135-18',\n",
       " '1-300135-19',\n",
       " '1-300135-2',\n",
       " '1-300135-20',\n",
       " '1-300135-3',\n",
       " '1-300135-4',\n",
       " '1-300135-5',\n",
       " '1-300135-6',\n",
       " '1-300135-7',\n",
       " '1-300135-8',\n",
       " '1-300135-9',\n",
       " 'training',\n",
       " '0-300100-17',\n",
       " '0-300100-18',\n",
       " '0-300100-19',\n",
       " '0-300100-2',\n",
       " '0-300100-20',\n",
       " '0-300100-3',\n",
       " '0-300100-4',\n",
       " '0-300100-5',\n",
       " '0-300100-6',\n",
       " '0-300100-7',\n",
       " '0-300100-8',\n",
       " '0-300100-9',\n",
       " '0-300103-0',\n",
       " '0-300103-1',\n",
       " '0-300103-10',\n",
       " '0-300103-11',\n",
       " '0-300103-12',\n",
       " '0-300103-13',\n",
       " '0-300103-14',\n",
       " '0-300103-15',\n",
       " '0-300103-16',\n",
       " '0-300103-17',\n",
       " '0-300103-18',\n",
       " '0-300103-19',\n",
       " '0-300103-2',\n",
       " '0-300103-20',\n",
       " '0-300103-3',\n",
       " '0-300103-4',\n",
       " '0-300103-5',\n",
       " '0-300135-3',\n",
       " '0-300135-4',\n",
       " '0-300135-5',\n",
       " '0-300135-6',\n",
       " '0-300135-7',\n",
       " '0-300135-8',\n",
       " '0-300135-9',\n",
       " '0-300138-0',\n",
       " '0-300138-1',\n",
       " '0-300138-10',\n",
       " '0-300138-11',\n",
       " '0-300138-12',\n",
       " '0-300138-13',\n",
       " '0-300138-14',\n",
       " '0-300138-15',\n",
       " '0-300138-16',\n",
       " '0-300138-17',\n",
       " '0-300138-18',\n",
       " '0-300138-19',\n",
       " '0-300138-2',\n",
       " '0-300138-20',\n",
       " '0-300138-3',\n",
       " '0-300138-4',\n",
       " '0-300138-5',\n",
       " '0-300138-6',\n",
       " '0-300138-7',\n",
       " '0-300138-8',\n",
       " '0-300169-6',\n",
       " '0-300169-7',\n",
       " '0-300169-8',\n",
       " '0-300169-9',\n",
       " '0-300172-0',\n",
       " '0-300172-1',\n",
       " '0-300172-10',\n",
       " '0-300172-11',\n",
       " '0-300172-12',\n",
       " '0-300172-13',\n",
       " '0-300172-14',\n",
       " '0-300172-15',\n",
       " '0-300172-16',\n",
       " '0-300172-17',\n",
       " '0-300172-18',\n",
       " '0-300172-19',\n",
       " '0-300172-2',\n",
       " '0-300172-20',\n",
       " '0-300172-3',\n",
       " '0-300172-4',\n",
       " '0-300172-5',\n",
       " '0-300172-6',\n",
       " '0-300172-7',\n",
       " '0-300172-8',\n",
       " '0-300172-9',\n",
       " '0-300183-0',\n",
       " '0-300183-1',\n",
       " '0-300183-10',\n",
       " '0-300158-14',\n",
       " '0-300158-15',\n",
       " '0-300158-16',\n",
       " '0-300158-17',\n",
       " '0-300158-18',\n",
       " '0-300158-19',\n",
       " '0-300158-2',\n",
       " '0-300158-20',\n",
       " '0-300158-3',\n",
       " '0-300158-4',\n",
       " '0-300158-5',\n",
       " '0-300158-6',\n",
       " '0-300158-7',\n",
       " '0-300158-8',\n",
       " '0-300158-9',\n",
       " '0-300163-0',\n",
       " '0-300163-1',\n",
       " '0-300163-10',\n",
       " '0-300163-11',\n",
       " '0-300163-12',\n",
       " '0-300163-13',\n",
       " '0-300163-14',\n",
       " '0-300163-15',\n",
       " '0-300163-16',\n",
       " '0-300163-17',\n",
       " '0-300163-18',\n",
       " '0-300197-16',\n",
       " '0-300197-17',\n",
       " '0-300197-18',\n",
       " '0-300197-19',\n",
       " '0-300197-2',\n",
       " '0-300197-20',\n",
       " '0-300197-3',\n",
       " '0-300197-4',\n",
       " '0-300197-5',\n",
       " '0-300197-6',\n",
       " '0-300197-7',\n",
       " '0-300197-8',\n",
       " '0-300197-9',\n",
       " '1-300101-0',\n",
       " '1-300101-1',\n",
       " '1-300101-10',\n",
       " '1-300101-11',\n",
       " '1-300101-12',\n",
       " '1-300101-13',\n",
       " '1-300101-14',\n",
       " '1-300101-15',\n",
       " '1-300101-16',\n",
       " '0-300106-0',\n",
       " '0-300106-1',\n",
       " '0-300106-10',\n",
       " '0-300106-11',\n",
       " '0-300106-12',\n",
       " '0-300106-13',\n",
       " '0-300106-14',\n",
       " '0-300106-15',\n",
       " '0-300106-16',\n",
       " '0-300106-17',\n",
       " '0-300106-18',\n",
       " '0-300106-19',\n",
       " '0-300106-2',\n",
       " '0-300106-20',\n",
       " '0-300106-3',\n",
       " '0-300106-4',\n",
       " '0-300106-5',\n",
       " '0-300106-6',\n",
       " '0-300106-7',\n",
       " '0-300106-8',\n",
       " '0-300106-9',\n",
       " '0-300110-0']"
      ]
     },
     "execution_count": 34,
     "metadata": {},
     "output_type": "execute_result"
    }
   ],
   "source": [
    "scene_id = os.listdir(imagepath)\n",
    "scene_id"
   ]
  },
  {
   "cell_type": "code",
   "execution_count": 35,
   "id": "79d0420f",
   "metadata": {},
   "outputs": [],
   "source": [
    "import scipy.ndimage as ndimage\n",
    "import copy"
   ]
  },
  {
   "cell_type": "code",
   "execution_count": 221,
   "id": "5fd8e864",
   "metadata": {},
   "outputs": [
    {
     "data": {
      "image/png": "[encoded data removed]",
      "text/plain": [
       "<Figure size 432x288 with 1 Axes>"
      ]
     },
     "metadata": {
      "needs_background": "light"
     },
     "output_type": "display_data"
    }
   ],
   "source": [
    "thres = 30\n",
    "for id in scene_id:\n",
    "    if len(id.split('-')) != 3:\n",
    "        continue\n",
    "    label_pwd = os.path.join(labelpath, id, \"irL_label_image.png\")\n",
    "    label = Image.open(label_pwd)\n",
    "    label = label.resize((960,540), resample=Image.NEAREST)\n",
    "    label = np.array(label)\n",
    "\n",
    "    bgmask = label == 17\n",
    "    label[bgmask] = 0\n",
    "    objmask = label != 0\n",
    "    label[objmask] = 1\n",
    "\n",
    "    depth_pwd = os.path.join(imagepath, id, \"depthL.png\")\n",
    "    depth = Image.open(depth_pwd)\n",
    "    #print(label.shape)\n",
    "    depth = depth.resize((960,540), resample=Image.NEAREST)\n",
    "    depth = np.array(depth)\n",
    "\n",
    "    edge = label - ndimage.morphology.binary_erosion(label) \n",
    "\n",
    "    edge = ndimage.morphology.binary_dilation(edge, iterations=2) \n",
    "    \n",
    "\n",
    "\n",
    "    edge = edge.astype(np.uint8)\n",
    "\n",
    "\n",
    "    mask = edge == 1\n",
    "\n",
    "  \n",
    "\n",
    "    diff_v = np.diff(depth, axis=0)\n",
    "    diff_h = np.diff(depth, axis=1)\n",
    "\n",
    "    pad_v = np.zeros((1,960)).astype(int)\n",
    "    pad_h = np.zeros((540,1)).astype(int)\n",
    "\n",
    "    #print(diff_v.shape, diff_h.shape)\n",
    "\n",
    "    diff_v_f = np.concatenate((pad_v, diff_v), axis=0)\n",
    "    diff_v_b = np.concatenate((diff_v, pad_v), axis=0)\n",
    "\n",
    "    diff_h_f = np.concatenate((pad_h, diff_h), axis=1)\n",
    "    diff_h_b = np.concatenate((diff_h, pad_h), axis=1)\n",
    "\n",
    "    contact_v = np.logical_and(np.abs(diff_v_f[mask]) < thres, np.abs(diff_v_b[mask]) < thres)\n",
    "    contact_h = np.logical_and(np.abs(diff_h_f[mask]) < thres, np.abs(diff_h_b[mask]) < thres)\n",
    "    contact = np.logical_and(contact_v, contact_h)\n",
    "    #print(np.sum(contact))\n",
    "    #print(edge.dtype)\n",
    "\n",
    "    contact_edge = edge[mask]\n",
    "    contact_edge[contact] = 2\n",
    "\n",
    "    edge[mask] = contact_edge\n",
    "\n",
    "    #print(contact, edge[mask])\n",
    "\n",
    "    #print(diff_h_b)\n",
    "\n",
    "    edge_2 = copy.deepcopy(edge)\n",
    "    mask_2 = edge == 2\n",
    "    edge_2[mask_2] = 1\n",
    "    mask_2_n = edge != 2\n",
    "    edge_2[mask_2_n] = 0\n",
    "    edge_2 = ndimage.morphology.binary_erosion(edge_2, iterations=2) \n",
    "    \n",
    "    edge_2 = ndimage.morphology.binary_dilation(edge_2, iterations=6) \n",
    "\n",
    "\n",
    "    #plt.imshow(edge_img)\n",
    "\n",
    "    contact_edge_mask = edge_2[mask] == 1\n",
    "    contact_edge_mask_n = edge_2[mask] == 0\n",
    "    contact_edge = edge[mask]\n",
    "    contact_edge[contact_edge_mask] = 2\n",
    "    contact_edge[contact_edge_mask_n] = 1\n",
    "\n",
    "    edge[mask] = contact_edge\n",
    "\n",
    "    edge_img = Image.fromarray(edge,mode='L')\n",
    "\n",
    "    plt.imshow(edge_img)\n",
    "    savepath = os.path.join(imagepath, id, \"outline.png\")\n",
    "    edge_img.save(savepath)"
   ]
  },
  {
   "cell_type": "code",
   "execution_count": 23,
   "id": "1aa653f1",
   "metadata": {},
   "outputs": [
    {
     "ename": "NameError",
     "evalue": "name 'edge' is not defined",
     "output_type": "error",
     "traceback": [
      "\u001b[0;31m---------------------------------------------------------------------------\u001b[0m",
      "\u001b[0;31mNameError\u001b[0m                                 Traceback (most recent call last)",
      "\u001b[0;32m<ipython-input-23-42b8f79573fc>\u001b[0m in \u001b[0;36m<module>\u001b[0;34m\u001b[0m\n\u001b[0;32m----> 1\u001b[0;31m \u001b[0mnp\u001b[0m\u001b[0;34m.\u001b[0m\u001b[0msum\u001b[0m\u001b[0;34m(\u001b[0m\u001b[0medge\u001b[0m \u001b[0;34m==\u001b[0m \u001b[0;36m1\u001b[0m\u001b[0;34m)\u001b[0m\u001b[0;34m,\u001b[0m \u001b[0mnp\u001b[0m\u001b[0;34m.\u001b[0m\u001b[0msum\u001b[0m\u001b[0;34m(\u001b[0m\u001b[0medge\u001b[0m \u001b[0;34m==\u001b[0m \u001b[0;36m2\u001b[0m\u001b[0;34m)\u001b[0m\u001b[0;34m,\u001b[0m \u001b[0mnp\u001b[0m\u001b[0;34m.\u001b[0m\u001b[0msum\u001b[0m\u001b[0;34m(\u001b[0m\u001b[0medge\u001b[0m \u001b[0;34m==\u001b[0m \u001b[0;36m1\u001b[0m\u001b[0;34m)\u001b[0m \u001b[0;34m+\u001b[0m \u001b[0mnp\u001b[0m\u001b[0;34m.\u001b[0m\u001b[0msum\u001b[0m\u001b[0;34m(\u001b[0m\u001b[0medge\u001b[0m \u001b[0;34m==\u001b[0m \u001b[0;36m0\u001b[0m\u001b[0;34m)\u001b[0m\u001b[0;34m,\u001b[0m \u001b[0;36m540\u001b[0m\u001b[0;34m*\u001b[0m\u001b[0;36m960\u001b[0m\u001b[0;34m\u001b[0m\u001b[0;34m\u001b[0m\u001b[0m\n\u001b[0m",
      "\u001b[0;31mNameError\u001b[0m: name 'edge' is not defined"
     ]
    }
   ],
   "source": [
    "np.sum(edge == 1), np.sum(edge == 2), np.sum(edge == 1) + np.sum(edge == 0), 540*960"
   ]
  },
  {
   "cell_type": "code",
   "execution_count": 24,
   "id": "497c4706",
   "metadata": {},
   "outputs": [
    {
     "data": {
      "text/plain": [
       "array([[0, 0, 0, 0, 0, 0]])"
      ]
     },
     "execution_count": 24,
     "metadata": {},
     "output_type": "execute_result"
    }
   ],
   "source": [
    "(np.zeros((1,6))).astype(int)"
   ]
  },
  {
   "cell_type": "code",
   "execution_count": 25,
   "id": "70559b79",
   "metadata": {},
   "outputs": [
    {
     "ename": "NameError",
     "evalue": "name 'edge' is not defined",
     "output_type": "error",
     "traceback": [
      "\u001b[0;31m---------------------------------------------------------------------------\u001b[0m",
      "\u001b[0;31mNameError\u001b[0m                                 Traceback (most recent call last)",
      "\u001b[0;32m<ipython-input-25-5702c6f289d1>\u001b[0m in \u001b[0;36m<module>\u001b[0;34m\u001b[0m\n\u001b[0;32m----> 1\u001b[0;31m \u001b[0mnp\u001b[0m\u001b[0;34m.\u001b[0m\u001b[0msum\u001b[0m\u001b[0;34m(\u001b[0m\u001b[0medge\u001b[0m \u001b[0;34m==\u001b[0m \u001b[0;36m0\u001b[0m\u001b[0;34m)\u001b[0m \u001b[0;34m+\u001b[0m \u001b[0mnp\u001b[0m\u001b[0;34m.\u001b[0m\u001b[0msum\u001b[0m\u001b[0;34m(\u001b[0m\u001b[0medge\u001b[0m \u001b[0;34m==\u001b[0m \u001b[0;36m1\u001b[0m\u001b[0;34m)\u001b[0m\u001b[0;34m\u001b[0m\u001b[0;34m\u001b[0m\u001b[0m\n\u001b[0m",
      "\u001b[0;31mNameError\u001b[0m: name 'edge' is not defined"
     ]
    }
   ],
   "source": [
    "np.sum(edge == 0) + np.sum(edge == 1)"
   ]
  },
  {
   "cell_type": "code",
   "execution_count": 26,
   "id": "8d9e6dfc",
   "metadata": {},
   "outputs": [
    {
     "ename": "NameError",
     "evalue": "name 'edge' is not defined",
     "output_type": "error",
     "traceback": [
      "\u001b[0;31m---------------------------------------------------------------------------\u001b[0m",
      "\u001b[0;31mNameError\u001b[0m                                 Traceback (most recent call last)",
      "\u001b[0;32m<ipython-input-26-ec1b4ccbb3e6>\u001b[0m in \u001b[0;36m<module>\u001b[0;34m\u001b[0m\n\u001b[0;32m----> 1\u001b[0;31m \u001b[0medge\u001b[0m\u001b[0;34m.\u001b[0m\u001b[0mshape\u001b[0m\u001b[0;34m\u001b[0m\u001b[0;34m\u001b[0m\u001b[0m\n\u001b[0m",
      "\u001b[0;31mNameError\u001b[0m: name 'edge' is not defined"
     ]
    }
   ],
   "source": [
    "edge.shape"
   ]
  },
  {
   "cell_type": "code",
   "execution_count": 46,
   "id": "3bed3f2b",
   "metadata": {},
   "outputs": [
    {
     "data": {
      "text/plain": [
       "2073600"
      ]
     },
     "execution_count": 46,
     "metadata": {},
     "output_type": "execute_result"
    }
   ],
   "source": [
    "1080*1920"
   ]
  },
  {
   "cell_type": "code",
   "execution_count": null,
   "id": "ca59d68c",
   "metadata": {},
   "outputs": [],
   "source": []
  },
  {
   "cell_type": "code",
   "execution_count": 27,
   "id": "cd0ff27d",
   "metadata": {},
   "outputs": [],
   "source": [
    "import struct\n",
    "\n",
    "import numpy as np\n",
    "import cv2\n",
    "import Imath\n",
    "import OpenEXR\n",
    "from PIL import Image\n",
    "\n",
    "def exr_loader(EXR_PATH, ndim=3):\n",
    "    \"\"\"Loads a .exr file as a numpy array\n",
    "\n",
    "    Args:\n",
    "        EXR_PATH: path to the exr file\n",
    "        ndim: number of channels that should be in returned array. Valid values are 1 and 3.\n",
    "                        if ndim=1, only the 'R' channel is taken from exr file\n",
    "                        if ndim=3, the 'R', 'G' and 'B' channels are taken from exr file.\n",
    "                            The exr file must have 3 channels in this case.\n",
    "    Returns:\n",
    "        numpy.ndarray (dtype=np.float32): If ndim=1, shape is (height x width)\n",
    "                                          If ndim=3, shape is (3 x height x width)\n",
    "\n",
    "    \"\"\"\n",
    "\n",
    "    exr_file = OpenEXR.InputFile(EXR_PATH)\n",
    "    cm_dw = exr_file.header()['dataWindow']\n",
    "    size = (cm_dw.max.x - cm_dw.min.x + 1, cm_dw.max.y - cm_dw.min.y + 1)\n",
    "\n",
    "    pt = Imath.PixelType(Imath.PixelType.FLOAT)\n",
    "\n",
    "    if ndim == 3:\n",
    "        # read channels indivudally\n",
    "        allchannels = []\n",
    "        for c in ['R', 'G', 'B']:\n",
    "            # transform data to numpy\n",
    "            channel = np.frombuffer(exr_file.channel(c, pt), dtype=np.float32)\n",
    "            channel.shape = (size[1], size[0])\n",
    "            allchannels.append(channel)\n",
    "\n",
    "        # create array and transpose dimensions to match tensor style\n",
    "        exr_arr = np.array(allchannels).transpose((0, 1, 2))\n",
    "        return exr_arr\n",
    "\n",
    "    if ndim == 1:\n",
    "        # transform data to numpy\n",
    "        channel = np.frombuffer(exr_file.channel('R', pt), dtype=np.float32)\n",
    "        channel.shape = (size[1], size[0])  # Numpy arrays are (row, col)\n",
    "        exr_arr = np.array(channel)\n",
    "        return exr_arr"
   ]
  },
  {
   "cell_type": "code",
   "execution_count": 14,
   "id": "7673a4c2",
   "metadata": {},
   "outputs": [],
   "source": [
    "root_path = '/media/jianyu/dataset/messy-table-dataset/real_data_v9'\n",
    "gt_root_path = '/media/jianyu/dataset/messy-table-dataset/real_v9/training'"
   ]
  },
  {
   "cell_type": "code",
   "execution_count": 15,
   "id": "88d51768",
   "metadata": {},
   "outputs": [],
   "source": [
    "import pandas\n",
    "import open3d as o3d\n",
    "import numpy as np\n",
    "db = pandas.read_pickle('~/haosulab/cam_db_full.pkl')\n",
    "cam_intrinsic = []\n",
    "cam_extrinsic = []\n",
    "cam_intrinsic_np = []\n",
    "for i in range(21):\n",
    "    cur_intr = db[i]['intrinsic_l']/2\n",
    "    cam_intrinsic_np.append(np.array(cur_intr))\n",
    "    cam_intrinsic.append(o3d.camera.PinholeCameraIntrinsic(960,540,cur_intr[0,0],cur_intr[1,1],cur_intr[0,2],cur_intr[1,2]))\n",
    "    cam_extrinsic.append(np.array(db[i]['extrinsic_l']))"
   ]
  },
  {
   "cell_type": "code",
   "execution_count": 25,
   "id": "85f77c77",
   "metadata": {},
   "outputs": [
    {
     "name": "stdout",
     "output_type": "stream",
     "text": [
      "[-0. -0. -0.]\n",
      "[-0. -0. -0.]\n",
      "[-0. -0. -0.]\n"
     ]
    }
   ],
   "source": [
    "import open3d as o3d\n",
    "cam_extrin = np.array([[1., 0., 0., 0.], [0., 1., 0., 0.], [0., 0., 1., 0.], [0., 0., 0., 1.]])\n",
    "for id in scene_id:\n",
    "    if len(id.split('-')) != 3:\n",
    "        continue\n",
    "    angle_id = int(id.split('-')[2])\n",
    "    #print(angle_id)\n",
    "    #label_path = os.path.join(root_path, scene_id+'-'+str(angle_id), 'irL_label_image.png')\n",
    "    #label_file = Image.open(label_path)\n",
    "    #label = np.array(label_file.resize((960,540), resample=Image.NEAREST))\n",
    "    \n",
    "    gt_depth_file_path = os.path.join(gt_root_path, id, 'depthL.png')\n",
    "    gt_depth_save_path = os.path.join(gt_root_path, id, 'depthL_half.png')\n",
    "    gt_depth_half_path = os.path.join(gt_root_path, id, 'depthL_half.png')\n",
    "    gt_depth = Image.open(gt_depth_file_path)\n",
    "    gt_depth = gt_depth.resize((960,540), resample=Image.NEAREST)\n",
    "    gt_depth.save(gt_depth_save_path)\n",
    "    \n",
    "    #color_path = os.path.join(root_path, scene_id+'-'+str(angle_id), '1024_irL_real_half.png')\n",
    "    #color = Image.open(color_path)\n",
    "    #color = np.array(color)\n",
    "\n",
    "    \n",
    "    gt_depth_o3d = o3d.io.read_image(gt_depth_half_path)\n",
    "    #print(np.array(gt_depth_o3d).shape)\n",
    "    gt_depth_np = np.array(Image.open(gt_depth_half_path))\n",
    "    gt_pc = o3d.geometry.PointCloud.create_from_depth_image(gt_depth_o3d, intrinsic=cam_intrinsic[angle_id], depth_trunc=100000000, project_valid_depth_only=False)\n",
    "    gt_pc.estimate_normals(search_param=o3d.geometry.KDTreeSearchParamHybrid(radius=0.1, max_nn=30),fast_normal_computation=False)\n",
    "    gt_pc_p = np.asarray(gt_pc.points)\n",
    "    \n",
    "    cam_pos = -np.matmul(cam_extrin[:3,:3].T,cam_extrin[:3,3])\n",
    "    #print(cam_pos)\n",
    "    gt_pc.orient_normals_towards_camera_location(cam_pos)\n",
    "    gt_normal = np.asarray(gt_pc.normals)\n",
    "    #o3d.visualization.draw_geometries([gt_pc])\n",
    "    #assert gt_normal.shape[0] == 518400\n",
    "    #print(np.array(gt_depth_o3d).shape, gt_normal.shape, np.amax(np.array(gt_depth_o3d)))\n",
    "    #cam_pos = -np.matmul(cam_extrinsic[angle_id][:3,:3].T,cam_extrinsic[angle_id][:3,3])\n",
    "\n",
    "    pc_save_path = os.path.join(gt_root_path, id, 'gt_normal.txt')\n",
    "    np.savetxt(pc_save_path, gt_normal)\n",
    "    #if id == '0-300169-2':\n",
    "    #    save_p = '/home/jianyu/Desktop/mis/pc.pcd'\n",
    "    #    o3d.io.write_point_cloud(save_p, gt_pc)\n",
    "    #    pc = o3d.io.read_point_cloud(save_p)\n",
    "    #    print(np.array(pc.normals).shape, np.array(gt_pc.normals).shape)\n",
    "    \n",
    "    #o3d.io.write_point_cloud(pc_save_path, gt_pc)"
   ]
  },
  {
   "cell_type": "code",
   "execution_count": 36,
   "id": "23b472d9",
   "metadata": {},
   "outputs": [],
   "source": [
    "pc = o3d.io.read_point_cloud('/media/jianyu/dataset/messy-table-dataset/real_v9/training/0-300169-2/gt_pc.pcd')"
   ]
  },
  {
   "cell_type": "code",
   "execution_count": 37,
   "id": "e79b3811",
   "metadata": {},
   "outputs": [
    {
     "data": {
      "text/plain": [
       "(503877, 3)"
      ]
     },
     "execution_count": 37,
     "metadata": {},
     "output_type": "execute_result"
    }
   ],
   "source": [
    "np.array(pc.points).shape"
   ]
  },
  {
   "cell_type": "code",
   "execution_count": 18,
   "id": "fb7e90a0",
   "metadata": {},
   "outputs": [
    {
     "name": "stdout",
     "output_type": "stream",
     "text": [
      "(3, 1080, 1920)\n"
     ]
    }
   ],
   "source": [
    "for id in scene_id:\n",
    "    if len(id.split('-')) != 3:\n",
    "        continue\n",
    "    label_path = '/media/jianyu/dataset/cleargrasp/train/cleargrasp-dataset-train/heart-bath-bomb-train/camera-normals/000000000-cameraNormals.exr'\n",
    "    label = exr_loader(label_path, ndim=3)\n",
    "    \n",
    "\n",
    "    mask = np.all(label == -1.0, axis=0)\n",
    "    label[:, mask] = 0.0\n",
    "\n",
    "    label = label.transpose((1, 2, 0))  # To Shape: (H, W, 3)\n",
    "    label = label.transpose((2, 0, 1))  # To Shape: (3, H, W)\n",
    "\n",
    "    print(label.shape)\n",
    "\n",
    "    break"
   ]
  },
  {
   "cell_type": "code",
   "execution_count": 35,
   "id": "e2e0f22e",
   "metadata": {},
   "outputs": [
    {
     "data": {
      "text/plain": [
       "(518400, 3)"
      ]
     },
     "execution_count": 35,
     "metadata": {},
     "output_type": "execute_result"
    }
   ],
   "source": [
    "gt_normal.shape"
   ]
  },
  {
   "cell_type": "code",
   "execution_count": 1,
   "id": "3a08242f",
   "metadata": {},
   "outputs": [],
   "source": [
    "import numpy as np\n",
    "from PIL import Image"
   ]
  },
  {
   "cell_type": "code",
   "execution_count": 2,
   "id": "7387ccff",
   "metadata": {},
   "outputs": [],
   "source": [
    "a = Image.open('/media/jianyu/dataset/cleargrasp/train/cleargrasp-dataset-train/cup-with-waves-train/segmentation-masks/000000000-segmentation-mask.png')\n",
    "a = np.array(a)"
   ]
  },
  {
   "cell_type": "code",
   "execution_count": 3,
   "id": "f8da5c6d",
   "metadata": {},
   "outputs": [
    {
     "data": {
      "text/plain": [
       "255"
      ]
     },
     "execution_count": 3,
     "metadata": {},
     "output_type": "execute_result"
    }
   ],
   "source": [
    "np.amax(a)"
   ]
  },
  {
   "cell_type": "code",
   "execution_count": 5,
   "id": "5f92f212",
   "metadata": {},
   "outputs": [],
   "source": [
    "normal = np.loadtxt('/media/jianyu/dataset/messy-table-dataset/real_v9/training/0-300002-0/gt_normal.txt')\n",
    "normal_i = np.reshape(normal,[540,960,3])\n",
    "target = [10,20]\n"
   ]
  },
  {
   "cell_type": "code",
   "execution_count": 6,
   "id": "6dd294ef",
   "metadata": {},
   "outputs": [
    {
     "data": {
      "text/plain": [
       "(array([0.00143202, 0.58817833, 0.80872999]),\n",
       " array([0.00143202, 0.58817833, 0.80872999]))"
      ]
     },
     "execution_count": 6,
     "metadata": {},
     "output_type": "execute_result"
    }
   ],
   "source": [
    "index = target[0]*960+target[1]\n",
    "n_1 = normal[index]\n",
    "n_2 = normal_i[target[0], target[1]]\n",
    "n_1, n_2"
   ]
  },
  {
   "cell_type": "code",
   "execution_count": 7,
   "id": "d51c73d7",
   "metadata": {},
   "outputs": [],
   "source": [
    "pred_depth_path = '/media/jianyu/dataset/eval/all_test_sim_data/01_13_2022_02_15_33_/pred_depth'\n",
    "refined_depth_path = '/media/jianyu/dataset/eval/cleargrasp/messy_dataset_eval/exp-000/output-depth'\n",
    "gt_depth_path = '/media/jianyu/dataset/messy-table-dataset/real_v9/training'"
   ]
  },
  {
   "cell_type": "code",
   "execution_count": 14,
   "id": "02e61328",
   "metadata": {},
   "outputs": [
    {
     "name": "stdout",
     "output_type": "stream",
     "text": [
      "4.4959544302966625 6.353299204276882\n"
     ]
    }
   ],
   "source": [
    "with open('/media/jianyu/dataset/messy-table-dataset/realTest.txt', 'r') as f:\n",
    "    prefix = [line.strip() for line in f]\n",
    "    np.random.shuffle(prefix)\n",
    "\n",
    "pred_depth_list = [os.path.join(pred_depth_path, p + '.png') for p in prefix]\n",
    "refined_depth_list = [os.path.join(refined_depth_path, p + '.png') for p in prefix]\n",
    "gt_depth_list = [os.path.join(gt_depth_path, p, 'depthL.png') for p in prefix]\n",
    "\n",
    "total_pred_err = 0\n",
    "total_refined_err = 0\n",
    "\n",
    "for i in range(len(pred_depth_list)):\n",
    "    pred_depth = np.array(Image.open(pred_depth_list[i]))\n",
    "    refined_depth = np.array(Image.open(refined_depth_list[i]))\n",
    "    gt_depth = np.array(Image.open(gt_depth_list[i]).resize([960,540], resample=Image.NEAREST))\n",
    "\n",
    "    img_ground_mask = (gt_depth > 0) & (gt_depth < 1250) & (pred_depth > 0) & (pred_depth < 1250)\n",
    "\n",
    "    #print(np.amax(pred_depth), np.amax(refined_depth),  np.amax(gt_depth))\n",
    "\n",
    "    abs_err_pred = np.sum(np.absolute(pred_depth[img_ground_mask] - gt_depth[img_ground_mask]))/np.sum(img_ground_mask)\n",
    "    abs_err_refined = np.sum(np.absolute(refined_depth[img_ground_mask] - gt_depth[img_ground_mask]))/np.sum(img_ground_mask)\n",
    "    total_pred_err += abs_err_pred\n",
    "    total_refined_err += abs_err_refined\n",
    "    #print(abs_err_pred, abs_err_refined)\n",
    "\n",
    "total_pred_err = total_pred_err/len(pred_depth_list)\n",
    "total_refined_err = total_refined_err/len(pred_depth_list)\n",
    "\n",
    "print(total_pred_err, total_refined_err)\n",
    "\n",
    "\n",
    "\n",
    "\n"
   ]
  },
  {
   "cell_type": "code",
   "execution_count": null,
   "id": "6f663a8b",
   "metadata": {},
   "outputs": [],
   "source": []
  }
 ],
 "metadata": {
  "interpreter": {
   "hash": "f9f85f796d01129d0dd105a088854619f454435301f6ffec2fea96ecbd9be4ac"
  },
  "kernelspec": {
   "display_name": "Python 3.9.5 64-bit",
   "language": "python",
   "name": "python3"
  },
  "language_info": {
   "codemirror_mode": {
    "name": "ipython",
    "version": 3
   },
   "file_extension": ".py",
   "mimetype": "text/x-python",
   "name": "python",
   "nbconvert_exporter": "python",
   "pygments_lexer": "ipython3",
   "version": "3.9.5"
  }
 },
 "nbformat": 4,
 "nbformat_minor": 5
}
